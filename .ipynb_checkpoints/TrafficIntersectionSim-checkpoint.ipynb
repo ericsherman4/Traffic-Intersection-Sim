{
 "cells": [
  {
   "cell_type": "code",
   "execution_count": 2,
   "id": "c943a09e",
   "metadata": {
    "scrolled": true
   },
   "outputs": [
    {
     "name": "stdout",
     "output_type": "stream",
     "text": [
      "The autoreload extension is already loaded. To reload it, use:\n",
      "  %reload_ext autoreload\n"
     ]
    }
   ],
   "source": [
    "# NEED TO RUN THIS CELL BEFORE RUNNING CELL BELOW FOR THE FIRST TIME\n",
    "# ONLY NEED TO RUN THIS CELL ONCE (OR EVERYTIME KERNAL IS RESET)\n",
    "# https://ipython.org/ipython-doc/3/config/extensions/autoreload.html\n",
    "# https://stackoverflow.com/questions/54923554/jupyter-class-in-different-notebook\n",
    "%load_ext autoreload\n",
    "%autoreload 2"
   ]
  },
  {
   "cell_type": "code",
   "execution_count": null,
   "id": "dd4e5bdb",
   "metadata": {
    "scrolled": false
   },
   "outputs": [
    {
     "data": {
      "text/html": [
       "<div id=\"glowscript\" class=\"glowscript\"></div>"
      ],
      "text/plain": [
       "<IPython.core.display.HTML object>"
      ]
     },
     "metadata": {},
     "output_type": "display_data"
    },
    {
     "data": {
      "application/javascript": [
       "if (typeof Jupyter !== \"undefined\") { window.__context = { glowscript_container: $(\"#glowscript\").removeAttr(\"id\")};}else{ element.textContent = ' ';}"
      ],
      "text/plain": [
       "<IPython.core.display.Javascript object>"
      ]
     },
     "metadata": {},
     "output_type": "display_data"
    },
    {
     "name": "stdout",
     "output_type": "stream",
     "text": [
      "stop line pos = 28.75\n",
      "setting turn radius to something\n",
      "setting turn radius to something\n",
      "setting turn radius to something\n",
      "setting turn radius to something\n",
      "setting turn radius to something\n",
      "setting turn radius to something\n",
      "setting turn radius to something\n",
      "setting turn radius to something\n",
      "setting turn radius to something\n",
      "setting turn radius to something\n",
      "setting turn radius to something\n",
      "setting turn radius to something\n",
      "setting turn radius to something\n",
      "setting turn radius to something\n",
      "setting turn radius to something\n",
      "setting turn radius to something\n",
      "setting turn radius to something\n",
      "setting turn radius to something\n",
      "setting turn radius to something\n",
      "setting turn radius to something\n",
      "setting turn radius to something\n",
      "setting turn radius to something\n",
      "setting turn radius to something\n",
      "setting turn radius to something\n",
      "setting turn radius to something\n",
      "setting turn radius to something\n",
      "setting turn radius to something\n",
      "setting turn radius to something\n",
      "setting turn radius to something\n",
      "setting turn radius to something\n",
      "setting turn radius to something\n",
      "setting turn radius to something\n",
      "setting turn radius to something\n",
      "setting turn radius to something\n",
      "setting turn radius to something\n",
      "setting turn radius to something\n",
      "setting turn radius to something\n",
      "setting turn radius to something\n",
      "setting turn radius to something\n",
      "setting turn radius to something\n",
      "setting turn radius to something\n",
      "setting turn radius to something\n",
      "setting turn radius to something\n",
      "setting turn radius to something\n",
      "setting turn radius to something\n",
      "setting turn radius to something\n",
      "setting turn radius to something\n",
      "setting turn radius to something\n",
      "total_duration not implemented\n",
      "add dynamic v_set setting? \n",
      "i wonder if setting distance to nearest car to be zero will always fix it?\n",
      "do the increment function you did in the traffic light manager. also why does it break if u increase time green?\n",
      "0.0\n",
      "0.03849001794597505\n",
      "0.07715167498104596\n",
      "0.11616046389935496\n",
      "0.1556997888323046\n",
      "0.19596545041740512\n",
      "0.23717082451262844\n",
      "0.2795530723408051\n",
      "0.3233808333817773\n",
      "0.3689640277608545\n",
      "0.4166666666666667\n",
      "0.46692399597580975\n",
      "0.5202659817144719\n",
      "0.5773502691896258\n",
      "0.6390096504226938\n",
      "0.7063224140220167\n",
      "0.7807200583588266\n",
      "0.8641585652180932\n",
      "0.9594032236002469\n",
      "1.0705287226561209\n",
      "1.203858530857692\n",
      "1.3698889534122287\n",
      "1.5707963267948966\n"
     ]
    }
   ],
   "source": [
    "%reload_ext autoreload\n",
    "\n",
    "from main import *\n",
    "\n",
    "sim_main()"
   ]
  }
 ],
 "metadata": {
  "kernelspec": {
   "display_name": "Python 3 (ipykernel)",
   "language": "python",
   "name": "python3"
  },
  "language_info": {
   "codemirror_mode": {
    "name": "ipython",
    "version": 3
   },
   "file_extension": ".py",
   "mimetype": "text/x-python",
   "name": "python",
   "nbconvert_exporter": "python",
   "pygments_lexer": "ipython3",
   "version": "3.9.2"
  }
 },
 "nbformat": 4,
 "nbformat_minor": 5
}
