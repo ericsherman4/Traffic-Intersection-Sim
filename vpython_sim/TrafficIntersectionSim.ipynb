{
 "cells": [
  {
   "cell_type": "code",
   "execution_count": 2,
   "id": "c943a09e",
   "metadata": {
    "scrolled": true
   },
   "outputs": [
    {
     "name": "stdout",
     "output_type": "stream",
     "text": [
      "The autoreload extension is already loaded. To reload it, use:\n",
      "  %reload_ext autoreload\n"
     ]
    }
   ],
   "source": [
    "# NEED TO RUN THIS CELL BEFORE RUNNING CELL BELOW FOR THE FIRST TIME\n",
    "# ONLY NEED TO RUN THIS CELL ONCE (OR EVERYTIME KERNAL IS RESET)\n",
    "# https://ipython.org/ipython-doc/3/config/extensions/autoreload.html\n",
    "# https://stackoverflow.com/questions/54923554/jupyter-class-in-different-notebook\n",
    "%load_ext autoreload\n",
    "%autoreload 2"
   ]
  },
  {
   "cell_type": "code",
   "execution_count": null,
   "id": "dd4e5bdb",
   "metadata": {
    "scrolled": false
   },
   "outputs": [
    {
     "data": {
      "text/html": [
       "<div id=\"glowscript\" class=\"glowscript\"></div>"
      ],
      "text/plain": [
       "<IPython.core.display.HTML object>"
      ]
     },
     "metadata": {},
     "output_type": "display_data"
    },
    {
     "data": {
      "application/javascript": [
       "if (typeof Jupyter !== \"undefined\") { window.__context = { glowscript_container: $(\"#glowscript\").removeAttr(\"id\")};}else{ element.textContent = ' ';}"
      ],
      "text/plain": [
       "<IPython.core.display.Javascript object>"
      ]
     },
     "metadata": {},
     "output_type": "display_data"
    },
    {
     "data": {
      "text/html": [
       "<div id=\"glowscript\" class=\"glowscript\"></div>"
      ],
      "text/plain": [
       "<IPython.core.display.HTML object>"
      ]
     },
     "metadata": {},
     "output_type": "display_data"
    },
    {
     "data": {
      "application/javascript": [
       "if (typeof Jupyter !== \"undefined\") { window.__context = { glowscript_container: $(\"#glowscript\").removeAttr(\"id\")};}else{ element.textContent = ' ';}"
      ],
      "text/plain": [
       "<IPython.core.display.Javascript object>"
      ]
     },
     "metadata": {},
     "output_type": "display_data"
    },
    {
     "data": {
      "application/javascript": [
       "if (typeof Jupyter !== \"undefined\") {require.undef(\"nbextensions/vpython_libraries/glow.min\");}else{element.textContent = ' ';}"
      ],
      "text/plain": [
       "<IPython.core.display.Javascript object>"
      ]
     },
     "metadata": {},
     "output_type": "display_data"
    },
    {
     "data": {
      "application/javascript": [
       "if (typeof Jupyter !== \"undefined\") {require.undef(\"nbextensions/vpython_libraries/glowcomm\");}else{element.textContent = ' ';}"
      ],
      "text/plain": [
       "<IPython.core.display.Javascript object>"
      ]
     },
     "metadata": {},
     "output_type": "display_data"
    },
    {
     "data": {
      "application/javascript": [
       "if (typeof Jupyter !== \"undefined\") {require.undef(\"nbextensions/vpython_libraries/jquery-ui.custom.min\");}else{element.textContent = ' ';}"
      ],
      "text/plain": [
       "<IPython.core.display.Javascript object>"
      ]
     },
     "metadata": {},
     "output_type": "display_data"
    },
    {
     "data": {
      "application/javascript": [
       "if (typeof Jupyter !== \"undefined\") {require([\"nbextensions/vpython_libraries/glow.min\"], function(){console.log(\"GLOW LOADED\");});}else{element.textContent = ' ';}"
      ],
      "text/plain": [
       "<IPython.core.display.Javascript object>"
      ]
     },
     "metadata": {},
     "output_type": "display_data"
    },
    {
     "data": {
      "application/javascript": [
       "if (typeof Jupyter !== \"undefined\") {require([\"nbextensions/vpython_libraries/glowcomm\"], function(){console.log(\"GLOWCOMM LOADED\");});}else{element.textContent = ' ';}"
      ],
      "text/plain": [
       "<IPython.core.display.Javascript object>"
      ]
     },
     "metadata": {},
     "output_type": "display_data"
    },
    {
     "data": {
      "application/javascript": [
       "if (typeof Jupyter !== \"undefined\") {require([\"nbextensions/vpython_libraries/jquery-ui.custom.min\"], function(){console.log(\"JQUERY LOADED\");});}else{element.textContent = ' ';}"
      ],
      "text/plain": [
       "<IPython.core.display.Javascript object>"
      ]
     },
     "metadata": {},
     "output_type": "display_data"
    },
    {
     "name": "stdout",
     "output_type": "stream",
     "text": [
      "total_duration not implemented\n",
      "OPTIMIZE CAR MANAGER, SO MANY THINGS ARE USING THE SAME FOR LOOP BUT ITS ALL SEPARATE FUNCTIONS\n",
      "ALSO OPTIMIZE BY JUST HAVING A BEHIND LIGHT FLAG, THAT WAY YOU DONT HAVE TO CHECK EVERYTIME\n",
      "replace things with numpy.take (has wrapping mode on array indices)\n",
      "add dynamic v_set setting? \n",
      "i wonder if setting distance to nearest car to be zero will always fix it? it will fix eventually but doesnt fix\n",
      "CAR DEACTIVATED\n",
      "Camera pos: <-262.933, 379.964, 250.552>\n",
      "Camera range: 312.0227027526475\n",
      "Camera forward: <0.421305, -0.813416, -0.40107>\n",
      "Camera center: <-35.2438, -59.6382, 33.7983>\n",
      "CAR DEACTIVATED\n",
      "CAR DEACTIVATED\n",
      "CAR DEACTIVATED\n",
      "CAR DEACTIVATED\n",
      "CAR DEACTIVATED\n",
      "CAR DEACTIVATED\n",
      "CAR DEACTIVATED\n",
      "CAR DEACTIVATED\n",
      "CAR DEACTIVATED\n",
      "CAR DEACTIVATED\n",
      "CAR DEACTIVATED\n",
      "CAR DEACTIVATED\n",
      "CAR DEACTIVATED\n",
      "CAR DEACTIVATED\n",
      "CAR DEACTIVATED\n",
      "CAR DEACTIVATED\n",
      "CAR DEACTIVATED\n",
      "CAR DEACTIVATED\n",
      "CAR DEACTIVATED\n",
      "CAR DEACTIVATED\n",
      "CAR DEACTIVATED\n",
      "CAR DEACTIVATED\n",
      "Camera pos: <-262.933, 379.964, 250.552>\n",
      "Camera range: 312.0227027526475\n",
      "Camera forward: <0.421305, -0.813416, -0.40107>\n",
      "Camera center: <-35.2438, -59.6382, 33.7983>\n",
      "CAR DEACTIVATED\n",
      "CAR DEACTIVATED\n",
      "CAR DEACTIVATED\n",
      "CAR DEACTIVATED\n",
      "CAR DEACTIVATED\n",
      "CAR DEACTIVATED\n",
      "CAR DEACTIVATED\n",
      "CAR DEACTIVATED\n",
      "CAR DEACTIVATED\n",
      "CAR DEACTIVATED\n",
      "CAR DEACTIVATED\n",
      "CAR DEACTIVATED\n",
      "CAR DEACTIVATED\n",
      "CAR DEACTIVATED\n",
      "CAR DEACTIVATED\n",
      "CAR DEACTIVATED\n",
      "CAR DEACTIVATED\n",
      "CAR DEACTIVATED\n",
      "CAR DEACTIVATED\n",
      "CAR DEACTIVATED\n",
      "CAR DEACTIVATED\n",
      "CAR DEACTIVATED\n",
      "CAR DEACTIVATED\n",
      "CAR DEACTIVATED\n",
      "CAR DEACTIVATED\n",
      "CAR DEACTIVATED\n",
      "Camera pos: <-262.933, 379.964, 250.552>\n",
      "Camera range: 312.0227027526475\n",
      "Camera forward: <0.421305, -0.813416, -0.40107>\n",
      "Camera center: <-35.2438, -59.6382, 33.7983>\n",
      "CAR DEACTIVATED\n",
      "CAR DEACTIVATED\n",
      "CAR DEACTIVATED\n",
      "CAR DEACTIVATED\n",
      "CAR DEACTIVATED\n",
      "CAR DEACTIVATED\n",
      "CAR DEACTIVATED\n",
      "CAR DEACTIVATED\n",
      "CAR DEACTIVATED\n",
      "CAR DEACTIVATED\n",
      "CAR DEACTIVATED\n",
      "CAR DEACTIVATED\n",
      "CAR DEACTIVATED\n",
      "CAR DEACTIVATED\n",
      "CAR DEACTIVATED\n",
      "CAR DEACTIVATED\n",
      "CAR DEACTIVATED\n",
      "CAR DEACTIVATED\n",
      "CAR DEACTIVATED\n",
      "CAR DEACTIVATED\n"
     ]
    }
   ],
   "source": [
    "%reload_ext autoreload\n",
    "\n",
    "from main import *\n",
    "\n",
    "sim_main()"
   ]
  },
  {
   "cell_type": "code",
   "execution_count": null,
   "id": "742b2b61",
   "metadata": {
    "scrolled": true
   },
   "outputs": [],
   "source": [
    "from vpython import *\n",
    "\n",
    "scene = canvas()\n",
    "scene.background = color.blue\n",
    "\n",
    "\n",
    "length = 5\n",
    "width= 0.5\n",
    "hwidth = 0.5\n",
    "yaxis = arrow(pos=vector(0,-length,0), axis=vector(0, length*2,0), shaftwidth=width, color=color.green, headwidth = hwidth) \n",
    "xaxis = arrow(pos=vector(-length,0,0), axis=vector(length*2,0,0), shaftwidth=width, color=color.red, headwidth = hwidth)\n",
    "zaxis = arrow(pos=vector(0,0,-length), axis=vector(0,0,length*2), shaftwidth=width, color=color.blue, headwidth = hwidth)\n",
    "\n",
    "# a = vertex(pos=vector(-5,-1,0))\n",
    "# b = vertex(pos=vector(0,2,0))\n",
    "# c = vertex(pos=vector(6,0,0))\n",
    "\n",
    "# t =triangle(vs=[a,b,c])\n",
    "\n",
    "linpath = [vec(0,0,4), vec(0,0,-4)]\n",
    "linpathwin=[vec(0,0,4.1), vec(0,0,-4.1)]\n",
    "linpath2 = [vec(0,0,3.9), vec(0,0,-3.9)]\n",
    "linpath3 = [vec(0,0,3.7), vec(0,0,-3.7)]\n",
    "\n",
    "extrusion(path=linpath, shape = [[-8,-1], [0,2], [12,0], [-8,-1]], color=color.gray(0.6))\n",
    "extrusion(path=linpath, shape = [[-8, -1], [-7.6,-3], [-7,-3],[-6,-2],[-4.5,-2],[-3.5,-3],\n",
    "                                 [5,-3],[6,-2],[7.5,-2],[8.5,-3],[10.7,-3],[12,0],[-8,-1]], color=color.gray(0.4))\n",
    "\n",
    "# window\n",
    "extrusion(path=linpathwin, shape=[[-6,-0.6],[0,1.5],[4,1],[4,0],[-6,-0.6]], color= color.gray(0.2))\n",
    "\n",
    "extrusion(path=linpath2, shape = [[-7.9, -1], [-7.6,-2.9],[8.5,-2.9],[10.7,-2.9],[11.9,0],[-7.9,-1]], color=color.gray(0.2))\n",
    "\n",
    "#front window\n",
    "extrusion(path=linpath3, shape = [[-6,-1.5], [-6,-0.2], [-1,1.7], [-6,-1.5]], color=color.gray(0.2))\n",
    "\n",
    "\n",
    "\n",
    "cylinder(pos=vector(-7+1.75,-3.4,-4.1), axis=vector(0,0,1.1), radius=1.3, color=color.gray(0.05))\n",
    "cylinder(pos=vector(-7+1.75,-3.4,4.1), axis=vector(0,0,-1.1), radius=1.3, color=color.gray(0.05))\n",
    "cylinder(pos=vector(5+1.75,-3.4,-4.1), axis=vector(0,0,1.1), radius=1.3, color=color.gray(0.05))\n",
    "cylinder(pos=vector(5+1.75,-3.4,4.1), axis=vector(0,0,-1.1), radius=1.3, color=color.gray(0.05))\n",
    "\n",
    "\n",
    "  \n"
   ]
  }
 ],
 "metadata": {
  "kernelspec": {
   "display_name": "Python 3 (ipykernel)",
   "language": "python",
   "name": "python3"
  },
  "language_info": {
   "codemirror_mode": {
    "name": "ipython",
    "version": 3
   },
   "file_extension": ".py",
   "mimetype": "text/x-python",
   "name": "python",
   "nbconvert_exporter": "python",
   "pygments_lexer": "ipython3",
   "version": "3.9.2"
  }
 },
 "nbformat": 4,
 "nbformat_minor": 5
}
