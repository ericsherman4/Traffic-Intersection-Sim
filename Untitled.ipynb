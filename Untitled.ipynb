{
 "cells": [
  {
   "cell_type": "code",
   "execution_count": 6,
   "id": "02891d9a",
   "metadata": {},
   "outputs": [
    {
     "data": {
      "text/html": [
       "<div id=\"glowscript\" class=\"glowscript\"></div>"
      ],
      "text/plain": [
       "<IPython.core.display.HTML object>"
      ]
     },
     "metadata": {},
     "output_type": "display_data"
    },
    {
     "data": {
      "application/javascript": [
       "if (typeof Jupyter !== \"undefined\") { window.__context = { glowscript_container: $(\"#glowscript\").removeAttr(\"id\")};}else{ element.textContent = ' ';}"
      ],
      "text/plain": [
       "<IPython.core.display.Javascript object>"
      ]
     },
     "metadata": {},
     "output_type": "display_data"
    },
    {
     "name": "stdout",
     "output_type": "stream",
     "text": [
      "2283173327960\n",
      "2283174037768\n"
     ]
    }
   ],
   "source": [
    "from vpython import *\n",
    "\n",
    "\n",
    "class g:\n",
    "    size = 100\n",
    "    roadwidth = 20\n",
    "\n",
    "\n",
    "#building the environment and scenary\n",
    "class env:\n",
    "    \n",
    "    def __init__(self):\n",
    "        zerovector = vector(0,0,0)\n",
    "        field = box(pos=zerovector, height = 0.2, width = g.size, length = g.size)\n",
    "        print(id(field.pos))\n",
    "        road1 = box(pos=vector(0,0.3,0))\n",
    "        print(id(road1.pos), height = 0.2, width = g.roadwidth)\n",
    "\n",
    "\n",
    "scene = canvas()\n",
    "scene.background = color.black\n",
    "\n",
    "sim = env()"
   ]
  }
 ],
 "metadata": {
  "kernelspec": {
   "display_name": "Python 3 (ipykernel)",
   "language": "python",
   "name": "python3"
  },
  "language_info": {
   "codemirror_mode": {
    "name": "ipython",
    "version": 3
   },
   "file_extension": ".py",
   "mimetype": "text/x-python",
   "name": "python",
   "nbconvert_exporter": "python",
   "pygments_lexer": "ipython3",
   "version": "3.7.11"
  }
 },
 "nbformat": 4,
 "nbformat_minor": 5
}
