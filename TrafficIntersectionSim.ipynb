{
 "cells": [
  {
   "cell_type": "code",
   "execution_count": 8,
   "id": "c943a09e",
   "metadata": {
    "scrolled": true
   },
   "outputs": [
    {
     "name": "stdout",
     "output_type": "stream",
     "text": [
      "The autoreload extension is already loaded. To reload it, use:\n",
      "  %reload_ext autoreload\n"
     ]
    }
   ],
   "source": [
    "# NEED TO RUN THIS CELL BEFORE RUNNING CELL BELOW FOR THE FIRST TIME\n",
    "# ONLY NEED TO RUN THIS CELL ONCE (OR EVERYTIME KERNAL IS RESET)\n",
    "# https://ipython.org/ipython-doc/3/config/extensions/autoreload.html\n",
    "# https://stackoverflow.com/questions/54923554/jupyter-class-in-different-notebook\n",
    "%load_ext autoreload\n",
    "%autoreload 2"
   ]
  },
  {
   "cell_type": "code",
   "execution_count": 10,
   "id": "dd4e5bdb",
   "metadata": {
    "scrolled": false
   },
   "outputs": [
    {
     "data": {
      "text/html": [
       "<div id=\"glowscript\" class=\"glowscript\"></div>"
      ],
      "text/plain": [
       "<IPython.core.display.HTML object>"
      ]
     },
     "metadata": {},
     "output_type": "display_data"
    },
    {
     "data": {
      "application/javascript": [
       "if (typeof Jupyter !== \"undefined\") { window.__context = { glowscript_container: $(\"#glowscript\").removeAttr(\"id\")};}else{ element.textContent = ' ';}"
      ],
      "text/plain": [
       "<IPython.core.display.Javascript object>"
      ]
     },
     "metadata": {},
     "output_type": "display_data"
    },
    {
     "name": "stdout",
     "output_type": "stream",
     "text": [
      "stop line pos = 28.75\n",
      "total_duration not implemented\n",
      "OPTIMIZE CAR MANAGER, SO MANY THINGS ARE USING THE SAME FOR LOOP BUT ITS ALL SEPARATE FUNCTIONS\n",
      "ALSO OPTIMIZE BY JUST HAVING A BEHIND LIGHT FLAG, THAT WAY YOU DONT HAVE TO CHECK EVERYTIME\n",
      "add dynamic v_set setting? \n",
      "i wonder if setting distance to nearest car to be zero will always fix it?\n",
      "do the increment function you did in the traffic light manager. also why does it break if u increase time green?\n",
      "leaving waiting state going to accel\n",
      "code ran in check for turn events. setting trigger to true\n",
      "1968237766112\n",
      "TRIGGER BY LANE 0\n",
      "current lane: 0\n",
      " destination lane: 7\n",
      "insertation index is : 0\n",
      "car_idx_og_lane is 0\n",
      " id of old car: 1968237766112 \n",
      "idx before for loop value: 0\n",
      "self.end_ptr = 0 and abs and diff is 0\n",
      "pos of passed in car <-28.3488, 4, 15>\n",
      "pos after deepcopy <-28.3488, 4, 15>\n",
      "new id: 1968254779200\n",
      "new car visible? True\n",
      "check if og car, rotation = 180\n",
      "pos before <-28.3488, 4, 15>\n",
      "check if og car, rotation = 90\n",
      "False\n",
      "False\n",
      "False\n",
      "True\n",
      "present state: 1\n",
      "present state: 1\n",
      "SUCCESSFULLY INSERTED\n",
      "start_ptr 0 and end_ptr1 and cars on road 1\n",
      "REMOVED SUCESSFULLY\n",
      "leaving accel state\n",
      "leaving turn state\n"
     ]
    }
   ],
   "source": [
    "%reload_ext autoreload\n",
    "\n",
    "from main import *\n",
    "\n",
    "sim_main()"
   ]
  }
 ],
 "metadata": {
  "kernelspec": {
   "display_name": "Python 3 (ipykernel)",
   "language": "python",
   "name": "python3"
  },
  "language_info": {
   "codemirror_mode": {
    "name": "ipython",
    "version": 3
   },
   "file_extension": ".py",
   "mimetype": "text/x-python",
   "name": "python",
   "nbconvert_exporter": "python",
   "pygments_lexer": "ipython3",
   "version": "3.9.2"
  }
 },
 "nbformat": 4,
 "nbformat_minor": 5
}
