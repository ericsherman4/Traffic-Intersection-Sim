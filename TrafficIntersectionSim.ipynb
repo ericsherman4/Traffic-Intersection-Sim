{
 "cells": [
  {
   "cell_type": "code",
   "execution_count": 2,
   "id": "c943a09e",
   "metadata": {},
   "outputs": [
    {
     "name": "stdout",
     "output_type": "stream",
     "text": [
      "The autoreload extension is already loaded. To reload it, use:\n",
      "  %reload_ext autoreload\n"
     ]
    }
   ],
   "source": [
    "# NEED TO RUN THIS CELL BEFORE RUNNING CELL BELOW FOR THE FIRST TIME\n",
    "# ONLY NEED TO RUN THIS CELL ONCE (OR EVERYTIME KERNAL IS RESET)\n",
    "# https://ipython.org/ipython-doc/3/config/extensions/autoreload.html\n",
    "# https://stackoverflow.com/questions/54923554/jupyter-class-in-different-notebook\n",
    "%load_ext autoreload\n",
    "%autoreload 2"
   ]
  },
  {
   "cell_type": "code",
   "execution_count": 20,
   "id": "2efeff5c",
   "metadata": {},
   "outputs": [
    {
     "data": {
      "text/html": [
       "<div id=\"glowscript\" class=\"glowscript\"></div>"
      ],
      "text/plain": [
       "<IPython.core.display.HTML object>"
      ]
     },
     "metadata": {},
     "output_type": "display_data"
    },
    {
     "data": {
      "application/javascript": [
       "if (typeof Jupyter !== \"undefined\") { window.__context = { glowscript_container: $(\"#glowscript\").removeAttr(\"id\")};}else{ element.textContent = ' ';}"
      ],
      "text/plain": [
       "<IPython.core.display.Javascript object>"
      ]
     },
     "metadata": {},
     "output_type": "display_data"
    },
    {
     "name": "stdout",
     "output_type": "stream",
     "text": [
      "[None None None None None None None None]\n",
      "[<carManager.Lane object at 0x0000018493155FD0>\n",
      " <carManager.Lane object at 0x00000184931F8DF0>\n",
      " <carManager.Lane object at 0x00000184931F8640>\n",
      " <carManager.Lane object at 0x00000184932576D0>\n",
      " <carManager.Lane object at 0x0000018493245A30>\n",
      " <carManager.Lane object at 0x0000018493225130>\n",
      " <carManager.Lane object at 0x000001849328F100>\n",
      " <carManager.Lane object at 0x000001849328F730>]\n"
     ]
    }
   ],
   "source": [
    "%reload_ext autoreload\n",
    "\n",
    "from main import *\n",
    "\n",
    "\n",
    "sim_main()"
   ]
  }
 ],
 "metadata": {
  "kernelspec": {
   "display_name": "Python 3 (ipykernel)",
   "language": "python",
   "name": "python3"
  },
  "language_info": {
   "codemirror_mode": {
    "name": "ipython",
    "version": 3
   },
   "file_extension": ".py",
   "mimetype": "text/x-python",
   "name": "python",
   "nbconvert_exporter": "python",
   "pygments_lexer": "ipython3",
   "version": "3.9.2"
  }
 },
 "nbformat": 4,
 "nbformat_minor": 5
}
