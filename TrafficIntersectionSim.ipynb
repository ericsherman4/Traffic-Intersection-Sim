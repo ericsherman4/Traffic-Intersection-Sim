{
 "cells": [
  {
   "cell_type": "code",
   "execution_count": 2,
   "id": "c943a09e",
   "metadata": {
    "scrolled": true
   },
   "outputs": [
    {
     "name": "stdout",
     "output_type": "stream",
     "text": [
      "The autoreload extension is already loaded. To reload it, use:\n",
      "  %reload_ext autoreload\n"
     ]
    }
   ],
   "source": [
    "# NEED TO RUN THIS CELL BEFORE RUNNING CELL BELOW FOR THE FIRST TIME\n",
    "# ONLY NEED TO RUN THIS CELL ONCE (OR EVERYTIME KERNAL IS RESET)\n",
    "# https://ipython.org/ipython-doc/3/config/extensions/autoreload.html\n",
    "# https://stackoverflow.com/questions/54923554/jupyter-class-in-different-notebook\n",
    "%load_ext autoreload\n",
    "%autoreload 2"
   ]
  },
  {
   "cell_type": "code",
   "execution_count": 6,
   "id": "dd4e5bdb",
   "metadata": {
    "scrolled": false
   },
   "outputs": [
    {
     "data": {
      "text/html": [
       "<div id=\"glowscript\" class=\"glowscript\"></div>"
      ],
      "text/plain": [
       "<IPython.core.display.HTML object>"
      ]
     },
     "metadata": {},
     "output_type": "display_data"
    },
    {
     "data": {
      "application/javascript": [
       "if (typeof Jupyter !== \"undefined\") { window.__context = { glowscript_container: $(\"#glowscript\").removeAttr(\"id\")};}else{ element.textContent = ' ';}"
      ],
      "text/plain": [
       "<IPython.core.display.Javascript object>"
      ]
     },
     "metadata": {},
     "output_type": "display_data"
    },
    {
     "name": "stdout",
     "output_type": "stream",
     "text": [
      "reach here\n",
      "reach here2\n",
      "1.220000000000013, 0, 3.287499999999998, 0, 5 and accel is: 1.855513307984812 and new v is 5.91444866920151\n",
      "1.1828897338403124, 0, 3.217918250950566, 0, 5 and accel is: 1.837973561775364 and new v is 5.730651313023971\n",
      "1.1461302626048138, 0, 3.1489942423839894, 0, 5 and accel is: 1.819835436944337 and new v is 5.548667769329535\n",
      "1.1097335538659223, 0, 3.080750413498576, 0, 5 and accel is: 1.8010766938527838 and new v is 5.368560099944254\n",
      "1.0737120199888608, 0, 3.0132100374790953, 0, 5 and accel is: 1.7816747034454112 and new v is 5.19039262959971\n",
      "1.038078525919957, 0, 2.9463972360998913, 0, 5 and accel is: 1.761606536283017 and new v is 5.0142319759714065\n",
      "1.0028463951942967, 0, 2.8803369909892775, 0, 5 and accel is: 1.7408490713613691 and new v is 4.840147068835267\n",
      "0.96802941376707, 0, 2.815055150813225, 0, 5 and accel is: 1.7193791274167782 and new v is 4.668209156093587\n",
      "0.9336418312187362, 0, 2.750578433535095, 0, 5 and accel is: 1.6971736196208052 and new v is 4.498491794131504\n",
      "0.8996983588263134, 0, 2.686934422799314, 0, 5 and accel is: 1.6742097447413429 and new v is 4.331070819657367\n",
      "0.8662141639314882, 0, 2.624151557371513, 0, 5 and accel is: 1.650465197976472 and new v is 4.166024299859718\n",
      "0.833204859971957, 0, 2.562259112447394, 0, 5 and accel is: 1.6259184247296996 and new v is 4.0034324573867455\n",
      "0.8006864914773644, 0, 2.5012871715200298, 0, 5 and accel is: 1.6005489105650912 and new v is 3.843377566330234\n",
      "0.7686755132660608, 0, 2.4412665873738377, 0, 5 and accel is: 1.5743375124241428 and new v is 3.6859438150878177\n",
      "0.7371887630175706, 0, 2.3822289306579316, 0, 5 and accel is: 1.5472668338680018 and new v is 3.5312171317010153\n",
      "0.7062434263402082, 0, 2.3242064243878806, 0, 5 and accel is: 1.5193216465835417 and new v is 3.379284967042659\n",
      "0.6758569934085443, 0, 2.267231862640997, 0, 5 and accel is: 1.490489359613332 and new v is 3.230236031081324\n",
      "0.6460472062162808, 0, 2.211338511655496, 0, 5 and accel is: 1.4607605366864977 and new v is 3.0841599774126722\n",
      "0.6168319954825421, 0, 2.156559991529752, 0, 5 and accel is: 1.4301294605882802 and new v is 2.941147031353842\n",
      "0.58822940627077, 0, 2.1029301367576907, 0, 5 and accel is: 1.3985947416629478 and new v is 2.8012875571875453\n",
      "0.5602575114375128, 0, 2.0504828339453294, 0, 5 and accel is: 1.3661599652593106 and new v is 2.6646715606616125\n",
      "0.5329343121323262, 0, 1.9992518352481046, 0, 5 and accel is: 1.3328343701787568 and new v is 2.531388123643735\n",
      "0.506277624728753, 0, 1.9492705463664006, 0, 5 and accel is: 1.298633546976062 and new v is 2.401524768946127\n",
      "0.4803049537892292, 0, 1.9005717883547977, 0, 5 and accel is: 1.263580141334725 and new v is 2.275166754812653\n",
      "0.4550333509625375, 0, 1.853187533054745, 0, 5 and accel is: 1.2277045437826593 and new v is 2.1523963004343853\n",
      "0.43047926008688364, 0, 1.8071486126628944, 0, 5 and accel is: 1.191045542880278 and new v is 2.033291746146356\n",
      "0.406658349229275, 0, 1.7624844048048836, 0, 5 and accel is: 1.1536509149262353 and new v is 1.9179266546537308\n",
      "0.38358533093074954, 0, 1.7192224954951492, 0, 5 and accel is: 1.1155779194835223 and new v is 1.8063688627053769\n",
      "0.3612737725410824, 0, 1.6773883235145164, 0, 5 and accel is: 1.0768936670076799 and new v is 1.6986794960046074\n",
      "0.3397358992009245, 0, 1.6370048110017277, 0, 5 and accel is: 1.0376753229974653 and new v is 1.5949119637048594\n",
      "0.3189823927409776, 0, 1.5980919863893224, 0, 5 and accel is: 0.9980101128648926 and new v is 1.4951109524183688\n",
      "0.29902219048367584, 0, 1.5606666071568882, 0, 5 and accel is: 0.9579950936107144 and new v is 1.399311443057296\n",
      "0.27986228861146145, 0, 1.524741791146486, 0, 5 and accel is: 0.917736662812354 and new v is 1.3075377767760592\n",
      "0.26150755535521597, 0, 1.4903266662910222, 0, 5 and accel is: 0.8773497826688901 and new v is 1.219802798509169\n",
      "0.24396055970183994, 0, 1.4574260494409383, 0, 5 and accel is: 0.8369569069916859 and new v is 1.1361071078099994\n",
      "0.22722142156199965, 0, 1.4260401654287498, 0, 5 and accel is: 0.7966866118868532 and new v is 1.0564384466213128\n",
      "0.21128768932426567, 0, 1.3961644174829924, 0, 5 and accel is: 0.7566719459344748 and new v is 0.9807712520278642\n",
      "0.1961542504055771, 0, 1.367789219510449, 0, 5 and accel is: 0.7170485320676218 and new v is 0.909066398821101\n",
      "0.18181327976422068, 0, 1.3408998995579129, 0, 5 and accel is: 0.6779524699202509 and new v is 0.8412711518290749\n",
      "0.1682542303658181, 0, 1.3154766819359032, 0, 5 and accel is: 0.6395181027390355 and new v is 0.7773193415551704\n",
      "0.1554638683110383, 0, 1.2914947530831888, 0, 5 and accel is: 0.6018757255494032 and new v is 0.7171317690002292\n",
      "0.1434263538000451, 0, 1.2689244133750859, 0, 5 and accel is: 0.5651493197240945 and new v is 0.6606168370278189\n",
      "0.13212336740556907, 0, 1.247731313885432, 0, 5 and accel is: 0.5294544023029175 and new v is 0.6076713967975265\n",
      "0.12153427935950845, 0, 1.2278767737990723, 0, 5 and accel is: 0.49489607570098115 and new v is 0.5581817892274277\n",
      "0.11163635784548376, 0, 1.2093181709602854, 0, 5 and accel is: 0.46156735475510335 and new v is 0.5120250537519166\n",
      "0.10240501075038821, 0, 1.1920093951569688, 0, 5 and accel is: 0.42954783396192564 and new v is 0.46907027035572346\n",
      "0.09381405407114585, 0, 1.1759013513833962, 0, 5 and accel is: 0.3989027394210311 and new v is 0.4291799964136198\n",
      "0.08583599928272179, 0, 1.1609424986551073, 0, 5 and accel is: 0.36968238901650347 and new v is 0.39221175751196896\n",
      "0.07844235150239598, 0, 1.1470794090669885, 0, 5 and accel is: 0.3419220625980874 and new v is 0.35801955125215973\n",
      "0.07160391025043111, 0, 1.13425733171956, 0, 5 and accel is: 0.31564226321498823 and new v is 0.32645532493066043\n",
      "0.06529106498613402, 0, 1.1224207468489977, 0, 5 and accel is: 0.29084933243361455 and new v is 0.29737039168729856\n",
      "0.05947407833745899, 0, 1.111513896882737, 0, 5 and accel is: 0.2675363686601456 and new v is 0.2706167548212836\n",
      "0.05412335096426091, 0, 1.1014812830579814, 0, 5 and accel is: 0.24568438790898584 and new v is 0.24604831603038468\n",
      "0.04920966320607789, 0, 1.0922681185113943, 0, 5 and accel is: 0.22526366178820476 and new v is 0.2235219498515639\n"
     ]
    },
    {
     "ename": "KeyboardInterrupt",
     "evalue": "",
     "output_type": "error",
     "traceback": [
      "\u001b[1;31m---------------------------------------------------------------------------\u001b[0m",
      "\u001b[1;31mKeyboardInterrupt\u001b[0m                         Traceback (most recent call last)",
      "Cell \u001b[1;32mIn [6], line 4\u001b[0m\n\u001b[0;32m      1\u001b[0m get_ipython()\u001b[38;5;241m.\u001b[39mrun_line_magic(\u001b[38;5;124m'\u001b[39m\u001b[38;5;124mreload_ext\u001b[39m\u001b[38;5;124m'\u001b[39m, \u001b[38;5;124m'\u001b[39m\u001b[38;5;124mautoreload\u001b[39m\u001b[38;5;124m'\u001b[39m)\n\u001b[0;32m      3\u001b[0m \u001b[38;5;28;01mfrom\u001b[39;00m \u001b[38;5;21;01mmain\u001b[39;00m \u001b[38;5;28;01mimport\u001b[39;00m \u001b[38;5;241m*\u001b[39m\n\u001b[1;32m----> 4\u001b[0m \u001b[43msim_main\u001b[49m\u001b[43m(\u001b[49m\u001b[43m)\u001b[49m\n",
      "File \u001b[1;32m~\\OneDrive\\Desktop\\Desktop\\Git Repos and Code\\simulations\\Traffic-Intersection-Sim\\main.py:68\u001b[0m, in \u001b[0;36msim_main\u001b[1;34m()\u001b[0m\n\u001b[0;32m     64\u001b[0m cycles\u001b[38;5;241m+\u001b[39m\u001b[38;5;241m=\u001b[39m\u001b[38;5;241m1\u001b[39m\n\u001b[0;32m     66\u001b[0m \u001b[38;5;66;03m# limit the rate of the while loop\u001b[39;00m\n\u001b[0;32m     67\u001b[0m \u001b[38;5;66;03m# rate(dynam_rate) # input is frequency, loop time is 1/f\u001b[39;00m\n\u001b[1;32m---> 68\u001b[0m \u001b[43mrate\u001b[49m\u001b[43m(\u001b[49m\u001b[38;5;241;43m40\u001b[39;49m\u001b[43m)\u001b[49m\n\u001b[0;32m     71\u001b[0m L\u001b[38;5;241m.\u001b[39mtext \u001b[38;5;241m=\u001b[39m \u001b[38;5;28mstr\u001b[39m(\u001b[38;5;28mround\u001b[39m(t,\u001b[38;5;241m2\u001b[39m))\n\u001b[0;32m     73\u001b[0m cmgr\u001b[38;5;241m.\u001b[39mrun(t)\n",
      "File \u001b[1;32m~\\anaconda3\\envs\\vpython\\lib\\site-packages\\vpython\\rate_control.py:266\u001b[0m, in \u001b[0;36m_RateKeeper2.__call__\u001b[1;34m(self, N)\u001b[0m\n\u001b[0;32m    264\u001b[0m \u001b[38;5;28mself\u001b[39m\u001b[38;5;241m.\u001b[39mrval \u001b[38;5;241m=\u001b[39m N\n\u001b[0;32m    265\u001b[0m \u001b[38;5;28;01mif\u001b[39;00m \u001b[38;5;28mself\u001b[39m\u001b[38;5;241m.\u001b[39mrval \u001b[38;5;241m<\u001b[39m \u001b[38;5;241m1\u001b[39m: \u001b[38;5;28;01mraise\u001b[39;00m \u001b[38;5;167;01mValueError\u001b[39;00m(\u001b[38;5;124m\"\u001b[39m\u001b[38;5;124mrate value must be greater than or equal to 1\u001b[39m\u001b[38;5;124m\"\u001b[39m)\n\u001b[1;32m--> 266\u001b[0m \u001b[38;5;28;43msuper\u001b[39;49m\u001b[43m(\u001b[49m\u001b[43m_RateKeeper2\u001b[49m\u001b[43m,\u001b[49m\u001b[43m \u001b[49m\u001b[38;5;28;43mself\u001b[39;49m\u001b[43m)\u001b[49m\u001b[38;5;241;43m.\u001b[39;49m\u001b[38;5;21;43m__call__\u001b[39;49m\u001b[43m(\u001b[49m\u001b[38;5;28;43mself\u001b[39;49m\u001b[38;5;241;43m.\u001b[39;49m\u001b[43mrval\u001b[49m\u001b[43m)\u001b[49m\n",
      "File \u001b[1;32m~\\anaconda3\\envs\\vpython\\lib\\site-packages\\vpython\\rate_control.py:214\u001b[0m, in \u001b[0;36mRateKeeper.__call__\u001b[1;34m(self, maxRate)\u001b[0m\n\u001b[0;32m    212\u001b[0m \u001b[38;5;28;01mif\u001b[39;00m \u001b[38;5;28mself\u001b[39m\u001b[38;5;241m.\u001b[39mwhenToRender[\u001b[38;5;28mself\u001b[39m\u001b[38;5;241m.\u001b[39mrenderIndex] \u001b[38;5;241m==\u001b[39m \u001b[38;5;28mself\u001b[39m\u001b[38;5;241m.\u001b[39mrateCount:\n\u001b[0;32m    213\u001b[0m     sleeps \u001b[38;5;241m+\u001b[39m\u001b[38;5;241m=\u001b[39m \u001b[38;5;241m1\u001b[39m\n\u001b[1;32m--> 214\u001b[0m     \u001b[43m_sleep\u001b[49m\u001b[43m(\u001b[49m\u001b[38;5;28;43mself\u001b[39;49m\u001b[38;5;241;43m.\u001b[39;49m\u001b[43minteractionPeriod\u001b[49m\u001b[43m)\u001b[49m\n\u001b[0;32m    215\u001b[0m \u001b[38;5;28;01melse\u001b[39;00m:\n\u001b[0;32m    216\u001b[0m     \u001b[38;5;28;01mbreak\u001b[39;00m\n",
      "File \u001b[1;32m~\\anaconda3\\envs\\vpython\\lib\\site-packages\\vpython\\rate_control.py:62\u001b[0m, in \u001b[0;36m_sleep\u001b[1;34m(dt)\u001b[0m\n\u001b[0;32m     60\u001b[0m dtsleep \u001b[38;5;241m=\u001b[39m nticks\u001b[38;5;241m*\u001b[39m_tick\n\u001b[0;32m     61\u001b[0m t \u001b[38;5;241m=\u001b[39m _clock()\n\u001b[1;32m---> 62\u001b[0m \u001b[43mtime\u001b[49m\u001b[38;5;241;43m.\u001b[39;49m\u001b[43msleep\u001b[49m\u001b[43m(\u001b[49m\u001b[43mdtsleep\u001b[49m\u001b[43m)\u001b[49m\n\u001b[0;32m     63\u001b[0m t \u001b[38;5;241m=\u001b[39m _clock()\u001b[38;5;241m-\u001b[39mt\n\u001b[0;32m     64\u001b[0m dt \u001b[38;5;241m-\u001b[39m\u001b[38;5;241m=\u001b[39m t\n",
      "\u001b[1;31mKeyboardInterrupt\u001b[0m: "
     ]
    }
   ],
   "source": [
    "%reload_ext autoreload\n",
    "\n",
    "from main import *\n",
    "sim_main()"
   ]
  }
 ],
 "metadata": {
  "kernelspec": {
   "display_name": "Python 3 (ipykernel)",
   "language": "python",
   "name": "python3"
  },
  "language_info": {
   "codemirror_mode": {
    "name": "ipython",
    "version": 3
   },
   "file_extension": ".py",
   "mimetype": "text/x-python",
   "name": "python",
   "nbconvert_exporter": "python",
   "pygments_lexer": "ipython3",
   "version": "3.9.2"
  }
 },
 "nbformat": 4,
 "nbformat_minor": 5
}
