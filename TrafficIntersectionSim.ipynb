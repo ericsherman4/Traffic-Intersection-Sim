{
 "cells": [
  {
   "cell_type": "code",
   "execution_count": 2,
   "id": "c943a09e",
   "metadata": {
    "scrolled": true
   },
   "outputs": [
    {
     "name": "stdout",
     "output_type": "stream",
     "text": [
      "The autoreload extension is already loaded. To reload it, use:\n",
      "  %reload_ext autoreload\n"
     ]
    }
   ],
   "source": [
    "# NEED TO RUN THIS CELL BEFORE RUNNING CELL BELOW FOR THE FIRST TIME\n",
    "# ONLY NEED TO RUN THIS CELL ONCE (OR EVERYTIME KERNAL IS RESET)\n",
    "# https://ipython.org/ipython-doc/3/config/extensions/autoreload.html\n",
    "# https://stackoverflow.com/questions/54923554/jupyter-class-in-different-notebook\n",
    "%load_ext autoreload\n",
    "%autoreload 2"
   ]
  },
  {
   "cell_type": "code",
   "execution_count": null,
   "id": "dd4e5bdb",
   "metadata": {
    "scrolled": false
   },
   "outputs": [
    {
     "data": {
      "text/html": [
       "<div id=\"glowscript\" class=\"glowscript\"></div>"
      ],
      "text/plain": [
       "<IPython.core.display.HTML object>"
      ]
     },
     "metadata": {},
     "output_type": "display_data"
    },
    {
     "data": {
      "application/javascript": [
       "if (typeof Jupyter !== \"undefined\") { window.__context = { glowscript_container: $(\"#glowscript\").removeAttr(\"id\")};}else{ element.textContent = ' ';}"
      ],
      "text/plain": [
       "<IPython.core.display.Javascript object>"
      ]
     },
     "metadata": {},
     "output_type": "display_data"
    },
    {
     "name": "stdout",
     "output_type": "stream",
     "text": [
      "stop line pos = 28.75\n",
      "total_duration not implemented\n",
      "OPTIMIZE CAR MANAGER, SO MANY THINGS ARE USING THE SAME FOR LOOP BUT ITS ALL SEPARATE FUNCTIONS\n",
      "ALSO OPTIMIZE BY JUST HAVING A BEHIND LIGHT FLAG, THAT WAY YOU DONT HAVE TO CHECK EVERYTIME\n",
      "add dynamic v_set setting? \n",
      "i wonder if setting distance to nearest car to be zero will always fix it?\n",
      "do the increment function you did in the traffic light manager. also why does it break if u increase time green?\n",
      "leaving waiting state going to accel\n",
      "leaving waiting state going to accel\n",
      "leaving waiting state going to accel\n",
      "leaving waiting state going to accel\n",
      "leaving waiting state going to accel\n",
      "leaving waiting state going to accel\n",
      "CAR DEACTIVATED\n",
      "code ran in check for turn events. setting trigger to true\n",
      "2587391714592\n",
      "TRIGGER BY LANE 0\n",
      "current lane: 0\n",
      " destination lane: 7\n",
      "num cars in lane 2\n",
      " inverted: False\n",
      "idx before for loop value IN INSERT: 1\n",
      "self.end_ptr = 2 and abs and end val is 1\n",
      "loop index is 1\n",
      "SUCCESSFULLY INSERTED\n",
      "REMOVE LOOP\n",
      "idx before for loop value: 1\n",
      "self.end_ptr = 4 and the end idx = 2\n",
      "CAR HAS BEEN COPIED: i = 1\n",
      "CAR HAS BEEN COPIED: i = 2\n",
      "the index its reseting: 3\n",
      "startptr: 1\n",
      "REMOVED SUCESSFULLY\n",
      "leaving accel state\n",
      "leaving turn state\n",
      "code ran in check for turn events. setting trigger to true\n",
      "2587392450464\n",
      "TRIGGER BY LANE 0\n",
      "current lane: 0\n",
      " destination lane: 7\n",
      "num cars in lane 3\n",
      " inverted: False\n",
      "idx before for loop value IN INSERT: 2\n",
      "self.end_ptr = 3 and abs and end val is 1\n",
      "loop index is 2\n",
      "SUCCESSFULLY INSERTED\n",
      "REMOVE LOOP\n",
      "idx before for loop value: 1\n",
      "self.end_ptr = 3 and the end idx = 1\n",
      "CAR HAS BEEN COPIED: i = 1\n",
      "the index its reseting: 2\n",
      "startptr: 1\n",
      "REMOVED SUCESSFULLY\n",
      "leaving accel state\n",
      "leaving turn state\n",
      "code ran in check for turn events. setting trigger to true\n",
      "2587392449840\n",
      "TRIGGER BY LANE 0\n",
      "current lane: 0\n",
      " destination lane: 7\n",
      "num cars in lane 4\n",
      " inverted: False\n",
      "NO ROOM TO ADD CAR!\n",
      "FAILED TO INSERT\n",
      "leaving accel state\n",
      "leaving turn state\n",
      "CAR DEACTIVATED\n",
      "CAR DEACTIVATED\n",
      "CAR DEACTIVATED\n",
      "CAR DEACTIVATED\n",
      "CAR DEACTIVATED\n"
     ]
    }
   ],
   "source": [
    "%reload_ext autoreload\n",
    "\n",
    "from main import *\n",
    "\n",
    "sim_main()"
   ]
  }
 ],
 "metadata": {
  "kernelspec": {
   "display_name": "Python 3 (ipykernel)",
   "language": "python",
   "name": "python3"
  },
  "language_info": {
   "codemirror_mode": {
    "name": "ipython",
    "version": 3
   },
   "file_extension": ".py",
   "mimetype": "text/x-python",
   "name": "python",
   "nbconvert_exporter": "python",
   "pygments_lexer": "ipython3",
   "version": "3.9.2"
  }
 },
 "nbformat": 4,
 "nbformat_minor": 5
}
