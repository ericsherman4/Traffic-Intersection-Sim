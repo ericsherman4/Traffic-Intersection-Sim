{
 "cells": [
  {
   "cell_type": "code",
   "execution_count": 1,
   "id": "c943a09e",
   "metadata": {
    "scrolled": true
   },
   "outputs": [],
   "source": [
    "# NEED TO RUN THIS CELL BEFORE RUNNING CELL BELOW FOR THE FIRST TIME\n",
    "# ONLY NEED TO RUN THIS CELL ONCE (OR EVERYTIME KERNAL IS RESET)\n",
    "# https://ipython.org/ipython-doc/3/config/extensions/autoreload.html\n",
    "# https://stackoverflow.com/questions/54923554/jupyter-class-in-different-notebook\n",
    "%load_ext autoreload\n",
    "%autoreload 2"
   ]
  },
  {
   "cell_type": "code",
   "execution_count": null,
   "id": "dd4e5bdb",
   "metadata": {
    "scrolled": false
   },
   "outputs": [
    {
     "data": {
      "text/html": [
       "<div id=\"glowscript\" class=\"glowscript\"></div>"
      ],
      "text/plain": [
       "<IPython.core.display.HTML object>"
      ]
     },
     "metadata": {},
     "output_type": "display_data"
    },
    {
     "data": {
      "application/javascript": [
       "if (typeof Jupyter !== \"undefined\") { window.__context = { glowscript_container: $(\"#glowscript\").removeAttr(\"id\")};}else{ element.textContent = ' ';}"
      ],
      "text/plain": [
       "<IPython.core.display.Javascript object>"
      ]
     },
     "metadata": {},
     "output_type": "display_data"
    },
    {
     "name": "stdout",
     "output_type": "stream",
     "text": [
      "stop line pos = 28.75\n"
     ]
    }
   ],
   "source": [
    "%reload_ext autoreload\n",
    "\n",
    "from main import *\n",
    "\n",
    "sim_main()"
   ]
  }
 ],
 "metadata": {
  "kernelspec": {
   "display_name": "Python 3 (ipykernel)",
   "language": "python",
   "name": "python3"
  },
  "language_info": {
   "codemirror_mode": {
    "name": "ipython",
    "version": 3
   },
   "file_extension": ".py",
   "mimetype": "text/x-python",
   "name": "python",
   "nbconvert_exporter": "python",
   "pygments_lexer": "ipython3",
   "version": "3.9.2"
  }
 },
 "nbformat": 4,
 "nbformat_minor": 5
}
