{
 "cells": [
  {
   "cell_type": "code",
   "execution_count": 2,
   "id": "c943a09e",
   "metadata": {
    "scrolled": true
   },
   "outputs": [
    {
     "name": "stdout",
     "output_type": "stream",
     "text": [
      "The autoreload extension is already loaded. To reload it, use:\n",
      "  %reload_ext autoreload\n"
     ]
    }
   ],
   "source": [
    "# NEED TO RUN THIS CELL BEFORE RUNNING CELL BELOW FOR THE FIRST TIME\n",
    "# ONLY NEED TO RUN THIS CELL ONCE (OR EVERYTIME KERNAL IS RESET)\n",
    "# https://ipython.org/ipython-doc/3/config/extensions/autoreload.html\n",
    "# https://stackoverflow.com/questions/54923554/jupyter-class-in-different-notebook\n",
    "%load_ext autoreload\n",
    "%autoreload 2"
   ]
  },
  {
   "cell_type": "code",
   "execution_count": null,
   "id": "dd4e5bdb",
   "metadata": {
    "scrolled": false
   },
   "outputs": [
    {
     "data": {
      "text/html": [
       "<div id=\"glowscript\" class=\"glowscript\"></div>"
      ],
      "text/plain": [
       "<IPython.core.display.HTML object>"
      ]
     },
     "metadata": {},
     "output_type": "display_data"
    },
    {
     "data": {
      "application/javascript": [
       "if (typeof Jupyter !== \"undefined\") { window.__context = { glowscript_container: $(\"#glowscript\").removeAttr(\"id\")};}else{ element.textContent = ' ';}"
      ],
      "text/plain": [
       "<IPython.core.display.Javascript object>"
      ]
     },
     "metadata": {},
     "output_type": "display_data"
    },
    {
     "name": "stdout",
     "output_type": "stream",
     "text": [
      "stop line pos = 28.75\n",
      "setting turn radius to something\n",
      "setting turn radius to something\n",
      "setting turn radius to something\n",
      "setting turn radius to something\n",
      "setting turn radius to something\n",
      "setting turn radius to something\n",
      "setting turn radius to something\n",
      "setting turn radius to something\n",
      "setting turn radius to something\n",
      "setting turn radius to something\n",
      "setting turn radius to something\n",
      "setting turn radius to something\n",
      "setting turn radius to something\n",
      "setting turn radius to something\n",
      "setting turn radius to something\n",
      "setting turn radius to something\n",
      "setting turn radius to something\n",
      "setting turn radius to something\n",
      "setting turn radius to something\n",
      "setting turn radius to something\n",
      "setting turn radius to something\n",
      "setting turn radius to something\n",
      "setting turn radius to something\n",
      "setting turn radius to something\n",
      "setting turn radius to something\n",
      "setting turn radius to something\n",
      "setting turn radius to something\n",
      "setting turn radius to something\n",
      "setting turn radius to something\n",
      "setting turn radius to something\n",
      "setting turn radius to something\n",
      "setting turn radius to something\n",
      "setting turn radius to something\n",
      "setting turn radius to something\n",
      "setting turn radius to something\n",
      "setting turn radius to something\n",
      "setting turn radius to something\n",
      "setting turn radius to something\n",
      "setting turn radius to something\n",
      "setting turn radius to something\n",
      "setting turn radius to something\n",
      "setting turn radius to something\n",
      "setting turn radius to something\n",
      "setting turn radius to something\n",
      "setting turn radius to something\n",
      "setting turn radius to something\n",
      "setting turn radius to something\n",
      "setting turn radius to something\n",
      "total_duration not implemented\n",
      "add dynamic v_set setting? \n",
      "i wonder if setting distance to nearest car to be zero will always fix it?\n",
      "do the increment function you did in the traffic light manager. also why does it break if u increase time green?\n",
      "abs: 0.03849001794597505 rel: -0.03849001794597505\n",
      "abs: 0.07715167498104596 rel: -0.03866165703507091\n",
      "abs: 0.11616046389935496 rel: -0.039008788918309\n",
      "abs: 0.1556997888323046 rel: -0.039539324932949635\n",
      "abs: 0.19596545041740512 rel: -0.04026566158510053\n",
      "abs: 0.23717082451262844 rel: -0.04120537409522332\n",
      "abs: 0.2795530723408051 rel: -0.04238224782817668\n",
      "abs: 0.3233808333817773 rel: -0.04382776104097219\n",
      "abs: 0.3689640277608545 rel: -0.04558319437907721\n",
      "abs: 0.4166666666666667 rel: -0.04770263890581217\n",
      "abs: 0.46692399597580975 rel: -0.05025732930914306\n",
      "abs: 0.5202659817144719 rel: -0.05334198573866217\n",
      "abs: 0.5773502691896258 rel: -0.05708428747515393\n",
      "abs: 0.6390096504226938 rel: -0.06165938123306791\n",
      "abs: 0.7063224140220167 rel: -0.06731276359932292\n",
      "abs: 0.7807200583588266 rel: -0.07439764433680995\n",
      "abs: 0.8641585652180932 rel: -0.08343850685926657\n",
      "abs: 0.9594032236002469 rel: -0.09524465838215368\n",
      "abs: 1.0705287226561209 rel: -0.11112549905587399\n",
      "abs: 1.203858530857692 rel: -0.13332980820157103\n",
      "abs: 1.3698889534122287 rel: -0.16603042255453682\n",
      "abs: 1.5707963267948966 rel: -0.20090737338266784\n"
     ]
    }
   ],
   "source": [
    "%reload_ext autoreload\n",
    "\n",
    "from main import *\n",
    "\n",
    "sim_main()"
   ]
  }
 ],
 "metadata": {
  "kernelspec": {
   "display_name": "Python 3 (ipykernel)",
   "language": "python",
   "name": "python3"
  },
  "language_info": {
   "codemirror_mode": {
    "name": "ipython",
    "version": 3
   },
   "file_extension": ".py",
   "mimetype": "text/x-python",
   "name": "python",
   "nbconvert_exporter": "python",
   "pygments_lexer": "ipython3",
   "version": "3.9.2"
  }
 },
 "nbformat": 4,
 "nbformat_minor": 5
}
